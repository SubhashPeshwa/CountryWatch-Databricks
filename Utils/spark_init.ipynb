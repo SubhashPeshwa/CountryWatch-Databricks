{
 "cells": [
  {
   "cell_type": "code",
   "execution_count": 2,
   "id": "cacdea97-c3a3-444a-a0e0-72d725af2d33",
   "metadata": {},
   "outputs": [],
   "source": [
    "import os\n",
    "import json\n",
    "import requests\n",
    "import delta\n",
    "import pyspark\n",
    "from pyspark.sql import SparkSession\n",
    "from pyspark.sql.types import StructField, StructType, StringType, ArrayType\n",
    "import env.config"
   ]
  },
  {
   "cell_type": "code",
   "execution_count": null,
   "id": "de20a4b7-aaf4-4269-a195-4519d9a27594",
   "metadata": {},
   "outputs": [],
   "source": [
    "# def get_spark() -> SparkSession:\n",
    "#     builder = (\n",
    "#         pyspark.sql.SparkSession.builder\n",
    "#         .master(\"local[*]\")\n",
    "#         .appName(\"spark\")\n",
    "#         .config(\"spark.sql.extensions\", \"io.delta.sql.DeltaSparkSessionExtension\")\n",
    "#         .config(\"spark.sql.catalog.spark_catalog\",\"org.apache.spark.sql.delta.catalog.DeltaCatalog\")\n",
    "#     )\n",
    "#     spark = delta.configure_spark_with_delta_pip(builder).getOrCreate()\n",
    "#     spark.sparkContext.setLogLevel(\"ERROR\")\n",
    "#     return spark"
   ]
  },
  {
   "cell_type": "code",
   "execution_count": 3,
   "id": "22170af2-5a77-482b-888c-8a45a3a99ff3",
   "metadata": {},
   "outputs": [],
   "source": [
    "def get_spark() -> SparkSession:\n",
    "    builder = (\n",
    "        pyspark.sql.SparkSession.builder\n",
    "        .master(\"spark://Subhashs-MacBook-Pro.local:7077\")\n",
    "        .appName(\"spark\")\n",
    "        .config(\"spark.sql.extensions\", \"io.delta.sql.DeltaSparkSessionExtension\")\n",
    "        .config(\"spark.sql.catalog.spark_catalog\",\"org.apache.spark.sql.delta.catalog.DeltaCatalog\")\n",
    "    )\n",
    "    spark = delta.configure_spark_with_delta_pip(builder).getOrCreate()\n",
    "    spark.sparkContext.setLogLevel(\"ERROR\")\n",
    "    return spark"
   ]
  },
  {
   "cell_type": "code",
   "execution_count": 3,
   "id": "eab1841a-f777-47fc-8eea-9407ca786084",
   "metadata": {},
   "outputs": [
    {
     "name": "stdout",
     "output_type": "stream",
     "text": [
      "Starting a new spark session in cluster mode..\n"
     ]
    }
   ],
   "source": [
    "if (SparkSession.getActiveSession()):\n",
    "    print('Spark session is already active, using that..')\n",
    "else:\n",
    "    print('Starting a new spark session in cluster mode..')\n",
    "    spark = get_spark()"
   ]
  },
  {
   "cell_type": "code",
   "execution_count": null,
   "id": "e2b8f772-5ffc-4aa8-a326-2f014b0e3194",
   "metadata": {},
   "outputs": [],
   "source": []
  }
 ],
 "metadata": {
  "kernelspec": {
   "display_name": "Python 3 (ipykernel)",
   "language": "python",
   "name": "python3"
  },
  "language_info": {
   "codemirror_mode": {
    "name": "ipython",
    "version": 3
   },
   "file_extension": ".py",
   "mimetype": "text/x-python",
   "name": "python",
   "nbconvert_exporter": "python",
   "pygments_lexer": "ipython3",
   "version": "3.9.6"
  }
 },
 "nbformat": 4,
 "nbformat_minor": 5
}
