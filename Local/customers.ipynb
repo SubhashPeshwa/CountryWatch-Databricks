{
 "cells": [
  {
   "cell_type": "code",
   "execution_count": 1,
   "id": "40c89a36",
   "metadata": {},
   "outputs": [],
   "source": [
    "import os\n",
    "import delta\n",
    "import mimesis\n",
    "import pyspark\n",
    "from pyspark.sql import SparkSession"
   ]
  },
  {
   "cell_type": "code",
   "execution_count": 2,
   "id": "be956f18",
   "metadata": {},
   "outputs": [],
   "source": [
    "def get_spark() -> SparkSession:\n",
    "    builder = (\n",
    "        pyspark.sql.SparkSession.builder\n",
    "        .master(\"local[*]\")\n",
    "        .appName(\"TestApp\")\n",
    "        .config(\"spark.sql.extensions\", \"io.delta.sql.DeltaSparkSessionExtension\")\n",
    "        .config(\"spark.sql.catalog.spark_catalog\",\"org.apache.spark.sql.delta.catalog.DeltaCatalog\")\n",
    "    )\n",
    "    spark = delta.configure_spark_with_delta_pip(builder).getOrCreate()\n",
    "    spark.sparkContext.setLogLevel(\"ERROR\")\n",
    "    return spark"
   ]
  },
  {
   "cell_type": "code",
   "execution_count": 3,
   "id": "1ade77a5",
   "metadata": {},
   "outputs": [],
   "source": [
    "def create_dataset(i: int = 100) -> list[dict]:\n",
    "    fake = mimesis.Generic()\n",
    "    output = [\n",
    "        {\n",
    "            \"name\": fake.person.name(),\n",
    "            \"surname\": fake.person.surname(),\n",
    "            \"birthday\": fake.datetime.date(1960, 2010),\n",
    "            \"email\": fake.person.email(),\n",
    "            \"country\": fake.address.country(),\n",
    "            \"state\": fake.address.state(),\n",
    "            \"city\": fake.address.city(),\n",
    "        }\n",
    "        for _ in range(i)\n",
    "    ]\n",
    "    return output"
   ]
  },
  {
   "cell_type": "code",
   "execution_count": 4,
   "id": "40f13bcb",
   "metadata": {},
   "outputs": [
    {
     "name": "stdout",
     "output_type": "stream",
     "text": [
      ":: loading settings :: url = jar:file:/Users/subhashpeshwa/miniconda/lib/python3.10/site-packages/pyspark/jars/ivy-2.5.1.jar!/org/apache/ivy/core/settings/ivysettings.xml\n"
     ]
    },
    {
     "name": "stderr",
     "output_type": "stream",
     "text": [
      "Ivy Default Cache set to: /Users/subhashpeshwa/.ivy2/cache\n",
      "The jars for the packages stored in: /Users/subhashpeshwa/.ivy2/jars\n",
      "io.delta#delta-core_2.12 added as a dependency\n",
      ":: resolving dependencies :: org.apache.spark#spark-submit-parent-35e50d67-14ab-41e6-a0a1-9c2274febfed;1.0\n",
      "\tconfs: [default]\n",
      "\tfound io.delta#delta-core_2.12;2.4.0 in central\n",
      "\tfound io.delta#delta-storage;2.4.0 in central\n",
      "\tfound org.antlr#antlr4-runtime;4.9.3 in central\n",
      ":: resolution report :: resolve 189ms :: artifacts dl 6ms\n",
      "\t:: modules in use:\n",
      "\tio.delta#delta-core_2.12;2.4.0 from central in [default]\n",
      "\tio.delta#delta-storage;2.4.0 from central in [default]\n",
      "\torg.antlr#antlr4-runtime;4.9.3 from central in [default]\n",
      "\t---------------------------------------------------------------------\n",
      "\t|                  |            modules            ||   artifacts   |\n",
      "\t|       conf       | number| search|dwnlded|evicted|| number|dwnlded|\n",
      "\t---------------------------------------------------------------------\n",
      "\t|      default     |   3   |   0   |   0   |   0   ||   3   |   0   |\n",
      "\t---------------------------------------------------------------------\n",
      ":: retrieving :: org.apache.spark#spark-submit-parent-35e50d67-14ab-41e6-a0a1-9c2274febfed\n",
      "\tconfs: [default]\n",
      "\t0 artifacts copied, 3 already retrieved (0kB/6ms)\n",
      "23/08/14 21:49:16 WARN NativeCodeLoader: Unable to load native-hadoop library for your platform... using builtin-java classes where applicable\n",
      "Setting default log level to \"WARN\".\n",
      "To adjust logging level use sc.setLogLevel(newLevel). For SparkR, use setLogLevel(newLevel).\n",
      "23/08/14 21:49:17 WARN Utils: Service 'SparkUI' could not bind on port 4040. Attempting port 4041.\n",
      "[Stage 8:>                                                          (0 + 1) / 1]\r"
     ]
    },
    {
     "name": "stdout",
     "output_type": "stream",
     "text": [
      "+---------+----------+----------+--------------------+--------------------+------------+---------------+\n",
      "|     name|   surname|  birthday|               email|             country|       state|           city|\n",
      "+---------+----------+----------+--------------------+--------------------+------------+---------------+\n",
      "|  Alfonzo|     Potts|2010-09-28|graduate2043@live...|          Kazakhstan| Mississippi|   Maple Valley|\n",
      "|    Ernie|Livingston|1968-10-15|sexuality1818@exa...|              Sweden|South Dakota|        Salinas|\n",
      "|Ellsworth|    Franco|1987-03-01|podcasts1806@yaho...|             Andorra| Mississippi|   Granite City|\n",
      "|    Denis|     Foley|1973-12-05|accurately2094@pr...|              Norway|   Minnesota|         Mandan|\n",
      "| Carolyne| Blackwell|1990-06-16|boulevard2074@duc...|            Guernsey|  Washington|         Arvada|\n",
      "|    Kayce|     Black|1993-12-29|surveys1859@examp...|              Gambia|     Vermont|         Topeka|\n",
      "|  William|      Byrd|1999-05-24|fighters1835@prot...|      Western Sahara|        Ohio|     Santa Cruz|\n",
      "|   Lamont|     Meyer|2002-11-02|construct2072@out...|             Jamaica|    New York|        Denison|\n",
      "|  Roselle|   Goodman|1969-12-09|    how1983@duck.com|        Cook Islands|     Alabama|Huntington Park|\n",
      "|  Laurena|       Guy|1994-08-11|bloomberg1917@duc...|            Djibouti|    Michigan|      West Bend|\n",
      "|    Tyron|      Noel|1960-08-30| pubs1876@yandex.com|             Bahamas|Rhode Island|   Baldwin Park|\n",
      "|    Jaime|      Ruiz|1964-02-08|guides1929@yandex...|          Montserrat|    Delaware|   Marshalltown|\n",
      "| Lisandra|      Byrd|1984-12-16|facilities1914@ya...|           Greenland|       Texas| South Portland|\n",
      "|    Boris|     Mcgee|2010-01-25|barbara1931@examp...|South Georgia & S...|   Louisiana|        Pontiac|\n",
      "| Federico|      Dean|1992-10-15|primary2069@examp...|            Portugal|     Vermont|      Bradenton|\n",
      "|  Marilou|   Mueller|1963-07-13|bodies2061@exampl...|              Belize|    Maryland|       Surprise|\n",
      "|     Buck|  Marshall|1961-12-20|aluminium2098@yan...|            Suriname|     Indiana|         Winona|\n",
      "|   Pearly|    Meyers|1964-01-25|seafood1895@examp...|            Mongolia|    Maryland|     El Cerrito|\n",
      "|    Vella|    Dudley|1994-07-30|mechanical1836@ex...|          Costa Rica|     Indiana|       Champlin|\n",
      "|   Nevada|   Flowers|1982-05-21|   zinc2052@live.com|            Dominica|    Michigan|    Kiryas Joel|\n",
      "+---------+----------+----------+--------------------+--------------------+------------+---------------+\n",
      "only showing top 20 rows\n",
      "\n"
     ]
    },
    {
     "name": "stderr",
     "output_type": "stream",
     "text": [
      "\r",
      "                                                                                \r"
     ]
    }
   ],
   "source": [
    "dir = os.getcwd()\n",
    "spark = get_spark()\n",
    "\n",
    "df = spark.createDataFrame(create_dataset(i=1_000_000))\n",
    "\n",
    "df = df.select(\n",
    "    df.name, df.surname, df.birthday, df.email, df.country, df.state, df.city\n",
    ")\n",
    "df.write.format(\"delta\").mode(\"overwrite\").save(dir + os.sep + \"/data/people\")\n",
    "df.show()"
   ]
  },
  {
   "cell_type": "markdown",
   "id": "8ac5067c",
   "metadata": {},
   "source": [
    "#### "
   ]
  },
  {
   "cell_type": "code",
   "execution_count": null,
   "id": "4137e4fb",
   "metadata": {},
   "outputs": [],
   "source": []
  },
  {
   "cell_type": "code",
   "execution_count": null,
   "id": "f2466465",
   "metadata": {},
   "outputs": [],
   "source": []
  },
  {
   "cell_type": "code",
   "execution_count": null,
   "id": "8d41758a",
   "metadata": {},
   "outputs": [],
   "source": []
  }
 ],
 "metadata": {
  "kernelspec": {
   "display_name": "Python 3 (ipykernel)",
   "language": "python",
   "name": "python3"
  },
  "language_info": {
   "codemirror_mode": {
    "name": "ipython",
    "version": 3
   },
   "file_extension": ".py",
   "mimetype": "text/x-python",
   "name": "python",
   "nbconvert_exporter": "python",
   "pygments_lexer": "ipython3",
   "version": "3.10.10"
  }
 },
 "nbformat": 4,
 "nbformat_minor": 5
}
