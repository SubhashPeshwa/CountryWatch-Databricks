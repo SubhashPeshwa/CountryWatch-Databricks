{
 "cells": [
  {
   "cell_type": "code",
   "execution_count": 1,
   "id": "cbfff536",
   "metadata": {},
   "outputs": [],
   "source": [
    "import os\n",
    "import json\n",
    "import requests\n",
    "import delta\n",
    "import pyspark\n",
    "from pyspark.sql import SparkSession\n",
    "from pyspark.sql.types import StructField, StructType, StringType, ArrayType\n",
    "import env.config"
   ]
  },
  {
   "cell_type": "code",
   "execution_count": 2,
   "id": "f7a779fb",
   "metadata": {},
   "outputs": [],
   "source": [
    "def get_spark() -> SparkSession:\n",
    "    builder = (\n",
    "        pyspark.sql.SparkSession.builder\n",
    "        .master(\"local[*]\")\n",
    "        .appName(\"TestApp\")\n",
    "        .config(\"spark.sql.extensions\", \"io.delta.sql.DeltaSparkSessionExtension\")\n",
    "        .config(\"spark.sql.catalog.spark_catalog\",\"org.apache.spark.sql.delta.catalog.DeltaCatalog\")\n",
    "    )\n",
    "    spark = delta.configure_spark_with_delta_pip(builder).getOrCreate()\n",
    "    spark.sparkContext.setLogLevel(\"ERROR\")\n",
    "    return spark"
   ]
  },
  {
   "cell_type": "code",
   "execution_count": 3,
   "id": "13b8c5d7",
   "metadata": {},
   "outputs": [],
   "source": [
    "def call_data_gov_api(uri):\n",
    "    \"\"\"\n",
    "    \"\"\"\n",
    "\n",
    "    url = \"https://api.data.gov.in\"\n",
    "    api_key = env.config.api_key\n",
    "    resp_format = \"json\"\n",
    "    limit = 500\n",
    "    offset = 0\n",
    "    resp = requests.get(\"{}{}?api-key={}&format={}&limit={}&offset={}\".format(url,uri,api_key,resp_format,limit,offset))\n",
    "\n",
    "    return resp"
   ]
  },
  {
   "cell_type": "code",
   "execution_count": 4,
   "id": "20ab29f8",
   "metadata": {},
   "outputs": [
    {
     "name": "stdout",
     "output_type": "stream",
     "text": [
      ":: loading settings :: url = jar:file:/Users/subhashpeshwa/miniconda/lib/python3.10/site-packages/pyspark/jars/ivy-2.5.1.jar!/org/apache/ivy/core/settings/ivysettings.xml\n"
     ]
    },
    {
     "name": "stderr",
     "output_type": "stream",
     "text": [
      "Ivy Default Cache set to: /Users/subhashpeshwa/.ivy2/cache\n",
      "The jars for the packages stored in: /Users/subhashpeshwa/.ivy2/jars\n",
      "io.delta#delta-core_2.12 added as a dependency\n",
      ":: resolving dependencies :: org.apache.spark#spark-submit-parent-38f35613-d029-44e4-a082-ee1900f0dad2;1.0\n",
      "\tconfs: [default]\n",
      "\tfound io.delta#delta-core_2.12;2.4.0 in central\n",
      "\tfound io.delta#delta-storage;2.4.0 in central\n",
      "\tfound org.antlr#antlr4-runtime;4.9.3 in central\n",
      ":: resolution report :: resolve 180ms :: artifacts dl 8ms\n",
      "\t:: modules in use:\n",
      "\tio.delta#delta-core_2.12;2.4.0 from central in [default]\n",
      "\tio.delta#delta-storage;2.4.0 from central in [default]\n",
      "\torg.antlr#antlr4-runtime;4.9.3 from central in [default]\n",
      "\t---------------------------------------------------------------------\n",
      "\t|                  |            modules            ||   artifacts   |\n",
      "\t|       conf       | number| search|dwnlded|evicted|| number|dwnlded|\n",
      "\t---------------------------------------------------------------------\n",
      "\t|      default     |   3   |   0   |   0   |   0   ||   3   |   0   |\n",
      "\t---------------------------------------------------------------------\n",
      ":: retrieving :: org.apache.spark#spark-submit-parent-38f35613-d029-44e4-a082-ee1900f0dad2\n",
      "\tconfs: [default]\n",
      "\t0 artifacts copied, 3 already retrieved (0kB/8ms)\n",
      "23/08/14 21:49:50 WARN NativeCodeLoader: Unable to load native-hadoop library for your platform... using builtin-java classes where applicable\n",
      "Setting default log level to \"WARN\".\n",
      "To adjust logging level use sc.setLogLevel(newLevel). For SparkR, use setLogLevel(newLevel).\n",
      "23/08/14 21:49:51 WARN Utils: Service 'SparkUI' could not bind on port 4040. Attempting port 4041.\n",
      "23/08/14 21:49:51 WARN Utils: Service 'SparkUI' could not bind on port 4041. Attempting port 4042.\n",
      "                                                                                \r"
     ]
    },
    {
     "name": "stdout",
     "output_type": "stream",
     "text": [
      "+---+--------+--------------------+-----+---------------+-----------------+--------------------+--------------------+--------------------+--------------------+--------------------+\n",
      "|sno|memberid|                name|party| constituencies|            state|            paddress|      permanentphone|        localaddress|          localphone|             emailid|\n",
      "+---+--------+--------------------+-----+---------------+-----------------+--------------------+--------------------+--------------------+--------------------+--------------------+\n",
      "|  1|    2654|Abdullah, Dr. Farooq|J&KNC|       Srinagar|Jammu and Kashmir|40, Gupkar Road, ...|Tel : (0194) 2452...|AB - 9, Tilak Mar...|Telefax : (011) 2...|iamfarooq70@hotma...|\n",
      "|  2|    4143|Adhalrao Patil, S...|   SS|         Shirur|      Maharashtra|At &amp; P.O. Lan...|Tel : (02133) 235...|59, Lodhi Estate,...|Tels. : (011) 246...|shivajirao@sansad...|\n",
      "|  3|    4847|Adhikari, Shri De...| AITC|         Ghatal|      West Bengal|Flat No. 29-B, To...|0903799999 (M), \\...|Flat No. 26, Sout...|     09013869520 (M)|adhikari.deepak@s...|\n",
      "|  4|    4939|Adhikari, Shri Di...| AITC|         Tamluk|      West Bengal|Vill. Karkuli, P....|Tel : (03220) 255...|69, South Avenue,...|Telefax : (011) 2...|dibyendu.adhikari...|\n",
      "|  5|    4502|Adhikari, Shri Si...| AITC|         Kanthi|      West Bengal|Vill. Karkuli, P....|Tel : (03220) 255...|15, Windsor Place...|Telefax : (011) 2...|sisir.adhikari@ni...|\n",
      "|  6|       8|Adsul, Shri Anandrao|   SS|       Amravati|      Maharashtra|5/B,Kadamgiri Apa...|Tels : (022) 2887...|AB-9, Pandara Roa...|Tel : (011) 23070...|av.adsul@sansad.n...|\n",
      "|  7|       9|Advani, Shri Lal ...|  BJP|    Gandhinagar|          Gujarat|1835/16, Kasturbh...|Tel : (079) 22504525|30, Prithviraj Ro...|Tels. (011) 23794...|lk.advani@sansad....|\n",
      "|  8|    4267|Agrawal, Shri Raj...|  BJP|         Meerut|    Uttar Pradesh|135,Chanakyapuri,...|Telefax : (0121) ...|201, Narmada Apar...|     09013180336 (M)|rajendra.agrawal5...|\n",
      "|  9|    3640|Ahir, Shri Hansra...|  BJP|     Chandrapur|      Maharashtra|Gokul Ward (Bazar...|Tel : (07172) 251...|2, Safdurjung Lan...|Tels : (011) 2301...|                 N/A|\n",
      "| 10|    4628|Ahlawat, Smt. San...|  BJP|      Jhunjhunu|        Rajasthan|Tagore Sr. Second...|     09549477777 (M)|502, Narmada, New...|Tel : (011) 23717536|ahlawat.santosh@s...|\n",
      "| 11|    4793|Ahluwalia, Shri S.S.|  BJP|     Darjeeling|      West Bengal|Prakash Niwas, B....|                 N/A|10, G.R.G. Road, ...|Tel : (011) 23722...|ssa@sansad.nic.in...|\n",
      "| 12|    4944|   Ahmed, Smt. Sajda| AITC|       Uluberia|      West Bengal|Jaduberia (North)...|     09836390227 (M)|C-II/5, Tilak Lan...|Tel : (011) 23782...|   sajdamp@gmail.com|\n",
      "| 13|    4436|Ajmal, Maulana Ba...|AIUDF|         Dhubri|            Assam|61-Maker Tower-B,...|Tel : (022) 22188...|1 &amp; 3, South ...|Telefax : (011) 2...|b.ajmal@sansad.ni...|\n",
      "| 14|    4817|Ajmal, Shri Siraj...|AIUDF|        Barpeta|            Assam|Ajmal House, Vill...|09820404786, 0943...|5, South Avenue, ...|                 N/A|sirajuddin@sansad...|\n",
      "| 15|    4945| Alam, Shri Sarfaraz|  RJD|         Araria|            Bihar|Vill.-Sisona, Vid...|     09431653786 (M)|18, Windsor Place...|     09431653786 (M)|                 N/A|\n",
      "| 16|    4848|     Ali, Shri Idris| AITC|       Basirhat|      West Bengal|5, Ripon Lane, P....|Tel : (033) 22650...|186, South Avenue...|Tel : (011) 23794...|idris.ali@sansad....|\n",
      "| 17|      20|  Ananth Kumar, Shri|  BJP|Bangalore South|        Karnataka|No. 26, H.B. Sama...|Tel : (080) 26568...|26, Tughlak Cresc...|Tel : (011) 23794...|akumar-alpha@sans...|\n",
      "| 18|    3983|Angadi, Shri Sure...|  BJP|        Belgaum|        Karnataka|\"Spoorthi\" Sampig...|Tels. : (0831) 24...|3, South Avenue L...|Telefax : (011) 2...|suresh.angadi@san...|\n",
      "| 19|    4746|Anil (alias Padma...|  BJP|           Pune|      Maharashtra|\"Shashikala\", 120...|Tel : (020) 25531...|85, South Avenue,...|                 N/A|anil.shirole@sans...|\n",
      "| 20|    4571|   Antony, Shri Anto|  INC| Pathanamthitta|           Kerala|44,Skyline, Palms...|     09447010000 (M)|90, South Avenue,...|Telefax :  (011) ...|anto.antony@ymail...|\n",
      "+---+--------+--------------------+-----+---------------+-----------------+--------------------+--------------------+--------------------+--------------------+--------------------+\n",
      "only showing top 20 rows\n",
      "\n"
     ]
    }
   ],
   "source": [
    "dir = os.getcwd()\n",
    "spark = get_spark()\n",
    "\n",
    "uri = \"/resource/81153f15-b4da-45b5-a299-f307351c5001\"\n",
    "resp = call_data_gov_api(uri)\n",
    "resp.json()['records']\n",
    "\n",
    "json_array_schema = StructType([\n",
    "    StructField('sno', StringType(), nullable=False), \n",
    "    StructField('memberid', StringType(), nullable=False),\n",
    "    StructField('name', StringType(), nullable=False),\n",
    "    StructField('party', StringType(), nullable=False),\n",
    "    StructField('constituencies', StringType(), nullable=False),\n",
    "    StructField('state', StringType(), nullable=False), \n",
    "    StructField('paddress', StringType(), nullable=False),\n",
    "    StructField('permanentphone', StringType(), nullable=False),\n",
    "    StructField('localaddress', StringType(), nullable=False),\n",
    "    StructField('localphone', StringType(), nullable=False),\n",
    "    StructField('emailid', StringType(), nullable=False)\n",
    "  ])\n",
    "\n",
    "# Read as a dictionary\n",
    "df = spark.createDataFrame(data=resp.json()['records'], schema = json_array_schema)\n",
    "df.write.format(\"delta\").mode(\"overwrite\").save(dir + os.sep + \"/data/ls_members\")\n",
    "df.show(truncate=True)"
   ]
  },
  {
   "cell_type": "code",
   "execution_count": null,
   "id": "d87a1e67",
   "metadata": {},
   "outputs": [],
   "source": []
  }
 ],
 "metadata": {
  "kernelspec": {
   "display_name": "Python 3 (ipykernel)",
   "language": "python",
   "name": "python3"
  },
  "language_info": {
   "codemirror_mode": {
    "name": "ipython",
    "version": 3
   },
   "file_extension": ".py",
   "mimetype": "text/x-python",
   "name": "python",
   "nbconvert_exporter": "python",
   "pygments_lexer": "ipython3",
   "version": "3.10.10"
  }
 },
 "nbformat": 4,
 "nbformat_minor": 5
}
