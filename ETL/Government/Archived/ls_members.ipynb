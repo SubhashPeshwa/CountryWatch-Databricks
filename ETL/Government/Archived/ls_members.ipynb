{
 "cells": [
  {
   "cell_type": "code",
   "execution_count": 0,
   "metadata": {
    "application/vnd.databricks.v1+cell": {
     "cellMetadata": {
      "byteLimit": 2048000,
      "rowLimit": 10000
     },
     "inputWidgets": {},
     "nuid": "432b2251-255c-41a7-8f17-f161305b04d8",
     "showTitle": false,
     "title": ""
    }
   },
   "outputs": [],
   "source": [
    "import os\n",
    "import json\n",
    "import requests\n",
    "import delta\n",
    "import pyspark\n",
    "from pyspark.sql import SparkSession\n",
    "from pyspark.sql.types import StructField, StructType, StringType, ArrayType\n",
    "\n",
    "import sys\n",
    "sys.path.append('../..')\n",
    "from ETL.Common.api import call_data_gov_api"
   ]
  },
  {
   "cell_type": "code",
   "execution_count": 0,
   "metadata": {
    "application/vnd.databricks.v1+cell": {
     "cellMetadata": {
      "byteLimit": 2048000,
      "rowLimit": 10000
     },
     "inputWidgets": {},
     "nuid": "462faedd-ad77-4893-b7a8-6dacf02bc4eb",
     "showTitle": false,
     "title": ""
    }
   },
   "outputs": [],
   "source": [
    "%run ../../Utils/spark_init"
   ]
  },
  {
   "cell_type": "code",
   "execution_count": 0,
   "metadata": {
    "application/vnd.databricks.v1+cell": {
     "cellMetadata": {
      "byteLimit": 2048000,
      "rowLimit": 10000
     },
     "inputWidgets": {},
     "nuid": "baa6a392-e4bc-494c-ad34-ebe326eff6df",
     "showTitle": false,
     "title": ""
    }
   },
   "outputs": [],
   "source": [
    "dir = os.getcwd()\n",
    "uri = \"/resource/81153f15-b4da-45b5-a299-f307351c5001\"\n",
    "data_gov_url = \"https://data.gov.in/resource/list-lok-sabha-members-english\"\n",
    "data_gov_name = \"List of Lok Sabha Members (English)\"\n",
    "table_name = \"ls_members\"\n",
    "\n",
    "resp = call_data_gov_api(uri)\n",
    "# print(resp.json()['records'])\n",
    "\n",
    "json_array_schema = StructType([\n",
    "    StructField('sno', StringType(), nullable=False), \n",
    "    StructField('memberid', StringType(), nullable=False),\n",
    "    StructField('name', StringType(), nullable=False),\n",
    "    StructField('party', StringType(), nullable=False),\n",
    "    StructField('constituencies', StringType(), nullable=False),\n",
    "    StructField('state', StringType(), nullable=False), \n",
    "    StructField('paddress', StringType(), nullable=False),\n",
    "    StructField('permanentphone', StringType(), nullable=False),\n",
    "    StructField('localaddress', StringType(), nullable=False),\n",
    "    StructField('localphone', StringType(), nullable=False),\n",
    "    StructField('emailid', StringType(), nullable=False)\n",
    "  ])\n",
    "\n",
    "# Read as a dictionary\n",
    "df = spark.createDataFrame(data=resp.json()['records'], schema = json_array_schema)\n",
    "\n",
    "# # The following  only stores data in delta file format\n",
    "# df.write.format(\"delta\").mode(\"overwrite\").save(dir + os.sep + \"/data/ls_members\")\n",
    "# df.show(truncate=True)\n",
    "\n",
    "df.write.mode(\"overwrite\").saveAsTable(table_name)\n",
    "\n",
    "display(spark.sql('DESCRIBE DETAIL default.{};'.format(table_name)))\n",
    "display(spark.sql(\"SELECT * FROM default.{};\".format(table_name)))"
   ]
  },
  {
   "cell_type": "code",
   "execution_count": 0,
   "metadata": {
    "application/vnd.databricks.v1+cell": {
     "cellMetadata": {},
     "inputWidgets": {},
     "nuid": "daa3908e-a644-4f54-b336-21856efcaf56",
     "showTitle": false,
     "title": ""
    }
   },
   "outputs": [],
   "source": []
  }
 ],
 "metadata": {
  "application/vnd.databricks.v1+notebook": {
   "dashboards": [],
   "language": "python",
   "notebookMetadata": {
    "pythonIndentUnit": 4
   },
   "notebookName": "ls_members",
   "widgets": {}
  },
  "kernelspec": {
   "display_name": "Python 3 (ipykernel)",
   "language": "python",
   "name": "python3"
  },
  "language_info": {
   "codemirror_mode": {
    "name": "ipython",
    "version": 3
   },
   "file_extension": ".py",
   "mimetype": "text/x-python",
   "name": "python",
   "nbconvert_exporter": "python",
   "pygments_lexer": "ipython3",
   "version": "3.9.6"
  }
 },
 "nbformat": 4,
 "nbformat_minor": 0
}
