{
 "cells": [
  {
   "cell_type": "code",
   "execution_count": 7,
   "id": "cbfff536",
   "metadata": {},
   "outputs": [],
   "source": [
    "import os\n",
    "import json\n",
    "import requests\n",
    "import delta\n",
    "import pyspark\n",
    "from pyspark.sql import SparkSession\n",
    "from pyspark.sql.types import StructField, StructType, StringType, ArrayType\n",
    "import env.config"
   ]
  },
  {
   "cell_type": "code",
   "execution_count": 8,
   "id": "fdd69979-c930-4963-bd13-ac63fac294dc",
   "metadata": {},
   "outputs": [
    {
     "name": "stdout",
     "output_type": "stream",
     "text": [
      "Starting a new spark session in cluster mode..\n"
     ]
    }
   ],
   "source": [
    "def get_spark() -> SparkSession:\n",
    "    builder = (\n",
    "        pyspark.sql.SparkSession.builder\n",
    "        .master(\"spark://Subhashs-MacBook-Pro.local:7077\")\n",
    "        .appName(\"spark\")\n",
    "        .config(\"spark.sql.extensions\", \"io.delta.sql.DeltaSparkSessionExtension\")\n",
    "        .config(\"spark.sql.catalog.spark_catalog\",\"org.apache.spark.sql.delta.catalog.DeltaCatalog\")\n",
    "    )\n",
    "    spark = delta.configure_spark_with_delta_pip(builder).getOrCreate()\n",
    "    spark.sparkContext.setLogLevel(\"ERROR\")\n",
    "    return spark\n",
    "\n",
    "if (SparkSession.getActiveSession()):\n",
    "    print('Spark session is already active, using that..')\n",
    "else:\n",
    "    print('Starting a new spark session in cluster mode..')\n",
    "    spark = get_spark()"
   ]
  },
  {
   "cell_type": "code",
   "execution_count": 9,
   "id": "13b8c5d7",
   "metadata": {},
   "outputs": [],
   "source": [
    "def call_data_gov_api(uri):\n",
    "    \"\"\"\n",
    "    \"\"\"\n",
    "\n",
    "    url = \"https://api.data.gov.in\"\n",
    "    api_key = env.config.api_key\n",
    "    resp_format = \"json\"\n",
    "    limit = 500\n",
    "    offset = 0\n",
    "    resp = requests.get(\"{}{}?api-key={}&format={}&limit={}&offset={}\".format(url,uri,api_key,resp_format,limit,offset))\n",
    "\n",
    "    return resp"
   ]
  },
  {
   "cell_type": "code",
   "execution_count": 10,
   "id": "fcd1b20c-82ed-4dfb-8fff-753bde65486e",
   "metadata": {},
   "outputs": [],
   "source": [
    "dir = os.getcwd()\n",
    "spark = get_spark()"
   ]
  },
  {
   "cell_type": "code",
   "execution_count": 11,
   "id": "20ab29f8",
   "metadata": {},
   "outputs": [],
   "source": [
    "uri = \"/resource/81153f15-b4da-45b5-a299-f307351c5001\"\n",
    "resp = call_data_gov_api(uri)\n",
    "resp.json()['records']\n",
    "\n",
    "json_array_schema = StructType([\n",
    "    StructField('sno', StringType(), nullable=False), \n",
    "    StructField('memberid', StringType(), nullable=False),\n",
    "    StructField('name', StringType(), nullable=False),\n",
    "    StructField('party', StringType(), nullable=False),\n",
    "    StructField('constituencies', StringType(), nullable=False),\n",
    "    StructField('state', StringType(), nullable=False), \n",
    "    StructField('paddress', StringType(), nullable=False),\n",
    "    StructField('permanentphone', StringType(), nullable=False),\n",
    "    StructField('localaddress', StringType(), nullable=False),\n",
    "    StructField('localphone', StringType(), nullable=False),\n",
    "    StructField('emailid', StringType(), nullable=False)\n",
    "  ])\n",
    "\n",
    "# Read as a dictionary\n",
    "df = spark.createDataFrame(data=resp.json()['records'], schema = json_array_schema)"
   ]
  },
  {
   "cell_type": "code",
   "execution_count": 12,
   "id": "d87a1e67",
   "metadata": {},
   "outputs": [
    {
     "name": "stderr",
     "output_type": "stream",
     "text": [
      "ERROR:root:KeyboardInterrupt while sending command.                 (0 + 1) / 1]\n",
      "Traceback (most recent call last):\n",
      "  File \"/Users/subhashpeshwa/Library/Python/3.9/lib/python/site-packages/py4j/java_gateway.py\", line 1038, in send_command\n",
      "    response = connection.send_command(command)\n",
      "  File \"/Users/subhashpeshwa/Library/Python/3.9/lib/python/site-packages/py4j/clientserver.py\", line 511, in send_command\n",
      "    answer = smart_decode(self.stream.readline()[:-1])\n",
      "  File \"/Library/Developer/CommandLineTools/Library/Frameworks/Python3.framework/Versions/3.9/lib/python3.9/socket.py\", line 704, in readinto\n",
      "    return self._sock.recv_into(b)\n",
      "KeyboardInterrupt\n"
     ]
    },
    {
     "ename": "KeyboardInterrupt",
     "evalue": "",
     "output_type": "error",
     "traceback": [
      "\u001b[0;31m---------------------------------------------------------------------------\u001b[0m",
      "\u001b[0;31mKeyboardInterrupt\u001b[0m                         Traceback (most recent call last)",
      "Cell \u001b[0;32mIn[12], line 3\u001b[0m\n\u001b[1;32m      1\u001b[0m \u001b[38;5;66;03m# # The following  only stores data in delta file format\u001b[39;00m\n\u001b[1;32m      2\u001b[0m \u001b[38;5;66;03m# df.write.format(\"delta\").mode(\"overwrite\").save(dir + os.sep + \"/data/ls_members\")\u001b[39;00m\n\u001b[0;32m----> 3\u001b[0m \u001b[43mdf\u001b[49m\u001b[38;5;241;43m.\u001b[39;49m\u001b[43mshow\u001b[49m\u001b[43m(\u001b[49m\u001b[43mtruncate\u001b[49m\u001b[38;5;241;43m=\u001b[39;49m\u001b[38;5;28;43;01mTrue\u001b[39;49;00m\u001b[43m)\u001b[49m\n",
      "File \u001b[0;32m~/Library/Python/3.9/lib/python/site-packages/pyspark/sql/dataframe.py:899\u001b[0m, in \u001b[0;36mDataFrame.show\u001b[0;34m(self, n, truncate, vertical)\u001b[0m\n\u001b[1;32m    893\u001b[0m     \u001b[38;5;28;01mraise\u001b[39;00m PySparkTypeError(\n\u001b[1;32m    894\u001b[0m         error_class\u001b[38;5;241m=\u001b[39m\u001b[38;5;124m\"\u001b[39m\u001b[38;5;124mNOT_BOOL\u001b[39m\u001b[38;5;124m\"\u001b[39m,\n\u001b[1;32m    895\u001b[0m         message_parameters\u001b[38;5;241m=\u001b[39m{\u001b[38;5;124m\"\u001b[39m\u001b[38;5;124marg_name\u001b[39m\u001b[38;5;124m\"\u001b[39m: \u001b[38;5;124m\"\u001b[39m\u001b[38;5;124mvertical\u001b[39m\u001b[38;5;124m\"\u001b[39m, \u001b[38;5;124m\"\u001b[39m\u001b[38;5;124marg_type\u001b[39m\u001b[38;5;124m\"\u001b[39m: \u001b[38;5;28mtype\u001b[39m(vertical)\u001b[38;5;241m.\u001b[39m\u001b[38;5;18m__name__\u001b[39m},\n\u001b[1;32m    896\u001b[0m     )\n\u001b[1;32m    898\u001b[0m \u001b[38;5;28;01mif\u001b[39;00m \u001b[38;5;28misinstance\u001b[39m(truncate, \u001b[38;5;28mbool\u001b[39m) \u001b[38;5;129;01mand\u001b[39;00m truncate:\n\u001b[0;32m--> 899\u001b[0m     \u001b[38;5;28mprint\u001b[39m(\u001b[38;5;28;43mself\u001b[39;49m\u001b[38;5;241;43m.\u001b[39;49m\u001b[43m_jdf\u001b[49m\u001b[38;5;241;43m.\u001b[39;49m\u001b[43mshowString\u001b[49m\u001b[43m(\u001b[49m\u001b[43mn\u001b[49m\u001b[43m,\u001b[49m\u001b[43m \u001b[49m\u001b[38;5;241;43m20\u001b[39;49m\u001b[43m,\u001b[49m\u001b[43m \u001b[49m\u001b[43mvertical\u001b[49m\u001b[43m)\u001b[49m)\n\u001b[1;32m    900\u001b[0m \u001b[38;5;28;01melse\u001b[39;00m:\n\u001b[1;32m    901\u001b[0m     \u001b[38;5;28;01mtry\u001b[39;00m:\n",
      "File \u001b[0;32m~/Library/Python/3.9/lib/python/site-packages/py4j/java_gateway.py:1321\u001b[0m, in \u001b[0;36mJavaMember.__call__\u001b[0;34m(self, *args)\u001b[0m\n\u001b[1;32m   1314\u001b[0m args_command, temp_args \u001b[38;5;241m=\u001b[39m \u001b[38;5;28mself\u001b[39m\u001b[38;5;241m.\u001b[39m_build_args(\u001b[38;5;241m*\u001b[39margs)\n\u001b[1;32m   1316\u001b[0m command \u001b[38;5;241m=\u001b[39m proto\u001b[38;5;241m.\u001b[39mCALL_COMMAND_NAME \u001b[38;5;241m+\u001b[39m\\\n\u001b[1;32m   1317\u001b[0m     \u001b[38;5;28mself\u001b[39m\u001b[38;5;241m.\u001b[39mcommand_header \u001b[38;5;241m+\u001b[39m\\\n\u001b[1;32m   1318\u001b[0m     args_command \u001b[38;5;241m+\u001b[39m\\\n\u001b[1;32m   1319\u001b[0m     proto\u001b[38;5;241m.\u001b[39mEND_COMMAND_PART\n\u001b[0;32m-> 1321\u001b[0m answer \u001b[38;5;241m=\u001b[39m \u001b[38;5;28;43mself\u001b[39;49m\u001b[38;5;241;43m.\u001b[39;49m\u001b[43mgateway_client\u001b[49m\u001b[38;5;241;43m.\u001b[39;49m\u001b[43msend_command\u001b[49m\u001b[43m(\u001b[49m\u001b[43mcommand\u001b[49m\u001b[43m)\u001b[49m\n\u001b[1;32m   1322\u001b[0m return_value \u001b[38;5;241m=\u001b[39m get_return_value(\n\u001b[1;32m   1323\u001b[0m     answer, \u001b[38;5;28mself\u001b[39m\u001b[38;5;241m.\u001b[39mgateway_client, \u001b[38;5;28mself\u001b[39m\u001b[38;5;241m.\u001b[39mtarget_id, \u001b[38;5;28mself\u001b[39m\u001b[38;5;241m.\u001b[39mname)\n\u001b[1;32m   1325\u001b[0m \u001b[38;5;28;01mfor\u001b[39;00m temp_arg \u001b[38;5;129;01min\u001b[39;00m temp_args:\n",
      "File \u001b[0;32m~/Library/Python/3.9/lib/python/site-packages/py4j/java_gateway.py:1038\u001b[0m, in \u001b[0;36mGatewayClient.send_command\u001b[0;34m(self, command, retry, binary)\u001b[0m\n\u001b[1;32m   1036\u001b[0m connection \u001b[38;5;241m=\u001b[39m \u001b[38;5;28mself\u001b[39m\u001b[38;5;241m.\u001b[39m_get_connection()\n\u001b[1;32m   1037\u001b[0m \u001b[38;5;28;01mtry\u001b[39;00m:\n\u001b[0;32m-> 1038\u001b[0m     response \u001b[38;5;241m=\u001b[39m \u001b[43mconnection\u001b[49m\u001b[38;5;241;43m.\u001b[39;49m\u001b[43msend_command\u001b[49m\u001b[43m(\u001b[49m\u001b[43mcommand\u001b[49m\u001b[43m)\u001b[49m\n\u001b[1;32m   1039\u001b[0m     \u001b[38;5;28;01mif\u001b[39;00m binary:\n\u001b[1;32m   1040\u001b[0m         \u001b[38;5;28;01mreturn\u001b[39;00m response, \u001b[38;5;28mself\u001b[39m\u001b[38;5;241m.\u001b[39m_create_connection_guard(connection)\n",
      "File \u001b[0;32m~/Library/Python/3.9/lib/python/site-packages/py4j/clientserver.py:511\u001b[0m, in \u001b[0;36mClientServerConnection.send_command\u001b[0;34m(self, command)\u001b[0m\n\u001b[1;32m    509\u001b[0m \u001b[38;5;28;01mtry\u001b[39;00m:\n\u001b[1;32m    510\u001b[0m     \u001b[38;5;28;01mwhile\u001b[39;00m \u001b[38;5;28;01mTrue\u001b[39;00m:\n\u001b[0;32m--> 511\u001b[0m         answer \u001b[38;5;241m=\u001b[39m smart_decode(\u001b[38;5;28;43mself\u001b[39;49m\u001b[38;5;241;43m.\u001b[39;49m\u001b[43mstream\u001b[49m\u001b[38;5;241;43m.\u001b[39;49m\u001b[43mreadline\u001b[49m\u001b[43m(\u001b[49m\u001b[43m)\u001b[49m[:\u001b[38;5;241m-\u001b[39m\u001b[38;5;241m1\u001b[39m])\n\u001b[1;32m    512\u001b[0m         logger\u001b[38;5;241m.\u001b[39mdebug(\u001b[38;5;124m\"\u001b[39m\u001b[38;5;124mAnswer received: \u001b[39m\u001b[38;5;132;01m{0}\u001b[39;00m\u001b[38;5;124m\"\u001b[39m\u001b[38;5;241m.\u001b[39mformat(answer))\n\u001b[1;32m    513\u001b[0m         \u001b[38;5;66;03m# Happens when a the other end is dead. There might be an empty\u001b[39;00m\n\u001b[1;32m    514\u001b[0m         \u001b[38;5;66;03m# answer before the socket raises an error.\u001b[39;00m\n",
      "File \u001b[0;32m/Library/Developer/CommandLineTools/Library/Frameworks/Python3.framework/Versions/3.9/lib/python3.9/socket.py:704\u001b[0m, in \u001b[0;36mSocketIO.readinto\u001b[0;34m(self, b)\u001b[0m\n\u001b[1;32m    702\u001b[0m \u001b[38;5;28;01mwhile\u001b[39;00m \u001b[38;5;28;01mTrue\u001b[39;00m:\n\u001b[1;32m    703\u001b[0m     \u001b[38;5;28;01mtry\u001b[39;00m:\n\u001b[0;32m--> 704\u001b[0m         \u001b[38;5;28;01mreturn\u001b[39;00m \u001b[38;5;28;43mself\u001b[39;49m\u001b[38;5;241;43m.\u001b[39;49m\u001b[43m_sock\u001b[49m\u001b[38;5;241;43m.\u001b[39;49m\u001b[43mrecv_into\u001b[49m\u001b[43m(\u001b[49m\u001b[43mb\u001b[49m\u001b[43m)\u001b[49m\n\u001b[1;32m    705\u001b[0m     \u001b[38;5;28;01mexcept\u001b[39;00m timeout:\n\u001b[1;32m    706\u001b[0m         \u001b[38;5;28mself\u001b[39m\u001b[38;5;241m.\u001b[39m_timeout_occurred \u001b[38;5;241m=\u001b[39m \u001b[38;5;28;01mTrue\u001b[39;00m\n",
      "\u001b[0;31mKeyboardInterrupt\u001b[0m: "
     ]
    }
   ],
   "source": [
    "# # The following  only stores data in delta file format\n",
    "# df.write.format(\"delta\").mode(\"overwrite\").save(dir + os.sep + \"/data/ls_members\")\n",
    "df.show(truncate=True)"
   ]
  },
  {
   "cell_type": "code",
   "execution_count": 18,
   "id": "2dc981ca-59fa-4315-847f-fb8de612258c",
   "metadata": {},
   "outputs": [],
   "source": [
    "import shutil\n",
    "shutil.rmtree('/Users/subhashpeshwa/Desktop/Databricks/CountryWatch-Databricks/Local/spark-warehouse/ls_members')"
   ]
  },
  {
   "cell_type": "code",
   "execution_count": 19,
   "id": "8fc9d1a8-7f69-4cc1-bbbf-94001fbc3025",
   "metadata": {},
   "outputs": [
    {
     "name": "stderr",
     "output_type": "stream",
     "text": [
      "                                                                                \r"
     ]
    }
   ],
   "source": [
    "table_name = \"ls_members\"\n",
    "df.write.mode(\"overwrite\").saveAsTable(table_name)"
   ]
  },
  {
   "cell_type": "code",
   "execution_count": 20,
   "id": "f24f917c-e9a0-4065-b085-86ff330abb72",
   "metadata": {},
   "outputs": [
    {
     "data": {
      "text/plain": [
       "DataFrame[format: string, id: string, name: string, description: string, location: string, createdAt: timestamp, lastModified: timestamp, partitionColumns: array<string>, numFiles: bigint, sizeInBytes: bigint, properties: map<string,string>, minReaderVersion: int, minWriterVersion: int, tableFeatures: array<string>]"
      ]
     },
     "metadata": {},
     "output_type": "display_data"
    }
   ],
   "source": [
    "display(spark.sql('DESCRIBE DETAIL default.ls_members'))"
   ]
  },
  {
   "cell_type": "code",
   "execution_count": 21,
   "id": "0b3fabb7-9ed5-499e-a111-e361e7034471",
   "metadata": {},
   "outputs": [
    {
     "name": "stdout",
     "output_type": "stream",
     "text": [
      "+---------+\n",
      "|namespace|\n",
      "+---------+\n",
      "|  default|\n",
      "+---------+\n",
      "\n",
      "+---------+----------+-----------+\n",
      "|namespace| tableName|isTemporary|\n",
      "+---------+----------+-----------+\n",
      "|  default|ls_members|      false|\n",
      "+---------+----------+-----------+\n",
      "\n"
     ]
    }
   ],
   "source": [
    "spark.sql(\"SHOW DATABASES;\").show()\n",
    "spark.sql(\"SHOW TABLES;\").show()"
   ]
  },
  {
   "cell_type": "code",
   "execution_count": 23,
   "id": "c81f5aa7-60c9-47de-9c86-7ddc3ad5b343",
   "metadata": {},
   "outputs": [
    {
     "name": "stdout",
     "output_type": "stream",
     "text": [
      "+---+--------+--------------------+------+-----------------+----------------+--------------------+--------------------+--------------------+--------------------+--------------------+\n",
      "|sno|memberid|                name| party|   constituencies|           state|            paddress|      permanentphone|        localaddress|          localphone|             emailid|\n",
      "+---+--------+--------------------+------+-----------------+----------------+--------------------+--------------------+--------------------+--------------------+--------------------+\n",
      "|187|    4744|Karadi, Shri Sang...|   BJP|           Koppal|       Karnataka|Flat No. 54/63, T...|Telefax: (08539) ...|Flat No. 2 &amp; ...|                 N/A|  bjpdpkpl@gmail.com|\n",
      "|188|    4616|Karandlaje, Km. S...|   BJP|Udupi Chikmagalur|       Karnataka|Karandlaje House,...|Tel : (08251) 284...|101, Narmada, , M...|Tel : (011) 23717975|shobha.karandlaje...|\n",
      "|189|    4178|Karunakaran, Shri P.|CPI(M)|        Kasaragod|          Kerala|Amaravathi House,...|Tel : (04672) 280...|No.422, V.P. Hous...|Tels : (011) 2372...|karunakaran.p@san...|\n",
      "|190|    4576|Kashyap, Shri Dinesh|   BJP|           Bastar|    Chhattisgarh|Vill. and P.O. Bh...|Tel : (07867) 282...|22, Janpath,  New...|Tels : (011) 2378...|dinesh.kashyap@sa...|\n",
      "|191|    4298|Kashyap, Shri Vir...|   BJP|           Shimla|Himachal Pradesh|Daulat Niwas, Gup...|Telefax : (01792)...|152 - 154, North ...|Tel : (011) 23093...|virenderkashyapbj...|\n",
      "|192|    4654|  Kaswan, Shri Rahul|   BJP|            Churu|       Rajasthan|Deep Niwas, Sadul...|Tel : (01559) 224...|19, Meena Bagh,  ...|Tel : (011) 23794...|rahul.kaswan@sans...|\n",
      "|193|     183|Kataria, Shri Rat...|   BJP|           Ambala|         Haryana|352, Kataria Kunj...|Tel : (01722) 555...|Haryana Bhawan, C...|                 N/A|ratanlal.kataria@...|\n",
      "|194|    4316|Kateel, Shri Nali...|   BJP| Dakshina Kannada|       Karnataka|No. 201, Ashoka A...|Tels : (0824) 244...|142, South Avenue...|Tel: (011) 237953...|nalinkumar.kateel...|\n",
      "|195|    4601|Kaushik, Shri Ram...|   BJP|          Sonipat|         Haryana|Kothi No. 21, Sec...|Tel : (0130) 2230...|30, Pt. Ravi Shan...|Telefax : (011) 2...|ramesh.kaushik@sa...|\n",
      "|196|    4701|Kesineni, Shri Sr...|   TDP|       Vijayawada|  Andhra Pradesh|Kesineni Bhavan, ...|Tel : (0866) 2577...|65, South Avenue,...|Tel : (011) 23012...|kesineni.srinivas...|\n",
      "|197|    4722|Khadse, Smt. Raks...|   BJP|            Raver|     Maharashtra|Muktai, At/Post-K...|Tels. : (02583) 2...|N-603, Narmada, N...|Tel : (011) 23719...|nr.khadase@sansad...|\n",
      "|198|     189|Khaire, Shri Chan...|    SS|       Aurangabad|     Maharashtra|`Khaire Niwas`, O...|Tel : (0240) 2331...|2, Teen Murti Lan...|Tels : (011) 2301...|bk.chandrakant@sa...|\n",
      "|199|    3704|Khalsa, Shri Hari...|   AAP|  Fatehgarh Sahib|          Punjab|90, Kohinoor Park...|Tel : (0161) 2550...|C-1/7, Tilak Lane...|     09013869331 (M)|harinders.khalsa@...|\n",
      "|200|    4824|Khan, Shri Md. Ba...|CPI(M)|      Murshidabad|     West Bengal|At-Ratanpur, P.O....|Tel : (0348) 2270...|201, V.P. House, ...|Tel : (011) 23326...|b.khan@sansad.nic.in|\n",
      "|201|     196|Khanduri, Maj Gen...|   BJP|          Garhwal|     Uttarakhand|Jai Durga Niwas, ...| Tel. (01368) 222600|7, K. Kamraj Lane...|Tels. (011) 23794...|bc.khanduri@nic.i...|\n",
      "|202|    4315|Kharge, Shri Mall...|   INC|         Gulbarga|       Karnataka|\"Lumbini Aiwan-e-...|Tels. : (08472) 2...|9, Safdarjung Roa...|Tels. : (011) 237...|m.kharge@sansad.n...|\n",
      "|203|    4775|Kher, Smt. Kirron...|   BJP|       Chandigarh|      Chandigarh|Kothi No. 65, Sec...|     09820067678 (M)|Flat. No 704, Bra...|     09003336909 (M)|kirron.kher@sansa...|\n",
      "|204|    4632|Khuba, Shri Bhagw...|   BJP|            Bidar|       Karnataka|19-1-243/3, Banke...|09013869178,\\n094...|68, South Avenue,...|Tel : (011) 23794...|bhagwanth.khuba@s...|\n",
      "|205|    4922|Kirtikar, Shri Ga...|    SS|Mumbai-North-West|     Maharashtra|3, Snehadeep Paha...|Telefax : (022) 2...|B-702, MS Flats, ...|Telefax: (011) 23...|gc.kirtikar@sansa...|\n",
      "|206|    4710|Kishore, Shri Kau...|   BJP|     Mohanlalganj|   Uttar Pradesh|Vill. Baigaria, P...|     09415005536 (M)|B-201, M.S. Flats...|     09415005536 (M)|kishore.kaushal@s...|\n",
      "+---+--------+--------------------+------+-----------------+----------------+--------------------+--------------------+--------------------+--------------------+--------------------+\n",
      "only showing top 20 rows\n",
      "\n"
     ]
    }
   ],
   "source": [
    "spark.sql(\"SELECT * FROM default.ls_members;\").show()"
   ]
  },
  {
   "cell_type": "code",
   "execution_count": 18,
   "id": "a17dbb7b-bdba-4c5f-b9d1-eb81010e0a06",
   "metadata": {},
   "outputs": [
    {
     "name": "stdout",
     "output_type": "stream",
     "text": [
      "++\n",
      "||\n",
      "++\n",
      "++\n",
      "\n"
     ]
    }
   ],
   "source": [
    "spark.sql(\"DROP TABLE default.ls_members;\").show()"
   ]
  },
  {
   "cell_type": "code",
   "execution_count": null,
   "id": "230a143b-2cb8-4f6d-9a81-174ec90a5a93",
   "metadata": {},
   "outputs": [],
   "source": [
    "db"
   ]
  }
 ],
 "metadata": {
  "kernelspec": {
   "display_name": "Python 3 (ipykernel)",
   "language": "python",
   "name": "python3"
  },
  "language_info": {
   "codemirror_mode": {
    "name": "ipython",
    "version": 3
   },
   "file_extension": ".py",
   "mimetype": "text/x-python",
   "name": "python",
   "nbconvert_exporter": "python",
   "pygments_lexer": "ipython3",
   "version": "3.9.6"
  }
 },
 "nbformat": 4,
 "nbformat_minor": 5
}
